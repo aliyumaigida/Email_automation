{
 "cells": [
  {
   "cell_type": "code",
   "execution_count": 21,
   "id": "2b0a79f7-f959-4ffe-a77e-91dcec8a261d",
   "metadata": {},
   "outputs": [],
   "source": [
    "import pandas as pd\n",
    "# my app password: wzzpdfszynqgunlu"
   ]
  },
  {
   "cell_type": "code",
   "execution_count": 22,
   "id": "3bd22026-7e52-4c11-88ff-ad00af46b066",
   "metadata": {},
   "outputs": [],
   "source": [
    "df = pd.read_excel(r\"C:\\AdventureWorksTables\\Email.xlsx\")"
   ]
  },
  {
   "cell_type": "code",
   "execution_count": 28,
   "id": "795e5edc-4c90-416d-b16c-1903557e31d5",
   "metadata": {},
   "outputs": [],
   "source": [
    "import tkinter as tk\n",
    "from tkinter import filedialog, messagebox\n",
    "import pandas as pd\n",
    "import smtplib, ssl\n",
    "from email.mime.multipart import MIMEMultipart\n",
    "from email.mime.text import MIMEText\n",
    "\n",
    "def send_emails():\n",
    "    # Select Excel File\n",
    "    file_path = filedialog.askopenfilename(title=\"Select Excel File\", filetypes=[(\"Excel files\", \"*.xlsx\")])\n",
    "    if not file_path:\n",
    "        return\n",
    "    \n",
    "    sender_email = sender_entry.get()\n",
    "    password = password_entry.get()\n",
    "    \n",
    "    # Read Excel file\n",
    "    try:\n",
    "        df = pd.read_excel(file_path)\n",
    "    except Exception as e:\n",
    "        messagebox.showerror(\"Error\", f\"Failed to read file: {e}\")\n",
    "        return\n",
    "\n",
    "    # Check required columns\n",
    "    if 'Email' not in df.columns or 'Name' not in df.columns:\n",
    "        messagebox.showerror(\"Error\", \"Excel file must contain 'Email' and 'Name' columns.\")\n",
    "        return\n",
    "\n",
    "    smtp_server = \"smtp.gmail.com\"\n",
    "    port = 465  # Port for SSL\n",
    "\n",
    "    context = ssl.create_default_context()\n",
    "    \n",
    "    try:\n",
    "        with smtplib.SMTP_SSL(smtp_server, port, context=context) as server:\n",
    "            server.login(sender_email, password)\n",
    "            for index, row in df.iterrows():\n",
    "                recipient_email = str(row['Email']).strip()\n",
    "                recipient_name = str(row['Name']).strip()\n",
    "\n",
    "                # Create the email\n",
    "                message = MIMEMultipart()\n",
    "                message['From'] = sender_email\n",
    "                message['To'] = recipient_email\n",
    "                message['Subject'] = f\"Hello {recipient_name}!\"\n",
    "                \n",
    "                # Body with UTF-8 encoding\n",
    "                body = f\"Dear {recipient_name},\\n\\nThis is a personalized message.\"\n",
    "                message.attach(MIMEText(body, 'plain', 'utf-8'))\n",
    "                \n",
    "                # Send the email\n",
    "                server.send_message(message)\n",
    "        \n",
    "        messagebox.showinfo(\"Success\", \"Emails sent successfully!\")\n",
    "    \n",
    "    except smtplib.SMTPAuthenticationError:\n",
    "        messagebox.showerror(\"Error\", \"Authentication failed. Check your email and app password.\")\n",
    "    except Exception as e:\n",
    "        messagebox.showerror(\"Error\", str(e))\n",
    "\n",
    "# GUI Setup\n",
    "app = tk.Tk()\n",
    "app.title(\"Gmail Email Automation\")\n",
    "\n",
    "tk.Label(app, text=\"Sender Email:\").pack()\n",
    "sender_entry = tk.Entry(app, width=40)\n",
    "sender_entry.pack()\n",
    "\n",
    "tk.Label(app, text=\"App Password:\").pack()\n",
    "password_entry = tk.Entry(app, show=\"*\", width=40)\n",
    "password_entry.pack()\n",
    "\n",
    "send_button = tk.Button(app, text=\"Send Emails\", command=send_emails)\n",
    "send_button.pack(pady=10)\n",
    "\n",
    "app.mainloop()\n"
   ]
  },
  {
   "cell_type": "code",
   "execution_count": null,
   "id": "65f633d3-3a71-494d-8d2d-0cc8d99674f3",
   "metadata": {},
   "outputs": [],
   "source": []
  }
 ],
 "metadata": {
  "kernelspec": {
   "display_name": "Python 3 (ipykernel)",
   "language": "python",
   "name": "python3"
  },
  "language_info": {
   "codemirror_mode": {
    "name": "ipython",
    "version": 3
   },
   "file_extension": ".py",
   "mimetype": "text/x-python",
   "name": "python",
   "nbconvert_exporter": "python",
   "pygments_lexer": "ipython3",
   "version": "3.11.7"
  }
 },
 "nbformat": 4,
 "nbformat_minor": 5
}
